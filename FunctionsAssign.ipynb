{
  "nbformat": 4,
  "nbformat_minor": 0,
  "metadata": {
    "colab": {
      "provenance": []
    },
    "kernelspec": {
      "name": "python3",
      "display_name": "Python 3"
    },
    "language_info": {
      "name": "python"
    }
  },
  "cells": [
    {
      "cell_type": "markdown",
      "source": [
        "#1. What is the difference between a function and a method in Python?\n",
        "Function: A function is a block of code that is defined outside of classes and can be called independently. It operates on the parameters passed to it.\n"
      ],
      "metadata": {
        "id": "Z98xyGekRN12"
      }
    },
    {
      "cell_type": "code",
      "source": [
        "#Function:-\n",
        "def my_function():\n",
        "    print(\"This is a function\")\n"
      ],
      "metadata": {
        "id": "_Wo9GVviRipP"
      },
      "execution_count": null,
      "outputs": []
    },
    {
      "cell_type": "markdown",
      "source": [
        "Method: A method is a function that is associated with an object. It is called on an instance of a class and can access the data within that class"
      ],
      "metadata": {
        "id": "8KF3x7qNRvzp"
      }
    },
    {
      "cell_type": "code",
      "source": [
        "#Method:-\n",
        "class MyClass:\n",
        "    def my_method(self):\n",
        "        print(\"This is a method of a class\")\n",
        "\n",
        "obj = MyClass()\n",
        "obj.my_method()  # This calls the method\n"
      ],
      "metadata": {
        "id": "ZswzUVr4R43e"
      },
      "execution_count": null,
      "outputs": []
    },
    {
      "cell_type": "code",
      "source": [
        "#2. Explain the concept of function arguments and parameters in Python.\n",
        "#Parameters: These are the variables defined in the function signature\n",
        "# (i.e., the placeholders for values the function will accept).\n",
        "\n",
        "#Arguments: These are the actual values you pass into the function when you call\n",
        "#it.\n",
        "def add(a, b):  # 'a' and 'b' are parameters\n",
        "    return a + b\n",
        "\n",
        "result = add(2, 3)  # '2' and '3' are arguments\n",
        "\n",
        "#3.What are the different ways to define and call a function in Python??\n",
        "#Defining a function: Use the def keyword.\n",
        "def greet(name):\n",
        "    return \"Hello, \" + name\n",
        "#Calling a function: Pass arguments to the function when calling it.\n",
        "print(greet(\"Pratik\"))  # Output: Hello, Pratik\n",
        "#Lambda function: You can also define an anonymous function using lambda\n",
        "square = lambda x: x ** 2\n",
        "print(square(5))  # Output: 25\n",
        "\n",
        "#4. What is the purpose of the `return` statement in a Python function?\n",
        "#The return statement is used to exit a function and pass back a value to the caller.\n",
        "# It allows the function to send an output back.\n",
        "def add(a, b):\n",
        "    return a + b\n",
        "\n",
        "result = add(2, 3)  # result is 5\n",
        "#If no return is used, the function returns None by default.\n",
        "\n",
        "#5. What are iterators in Python and how do they differ from iterables??\n",
        "#Iterable: An object that contains multiple items, like lists, strings, and\n",
        "#dictionaries, and can be traversed using a loop. Example: list, tuple, etc.\n",
        "my_list = [1, 2, 3]  # This is an iterable\n",
        "\n",
        "#Iterator: An object that produces items one at a time and remembers the state\n",
        "#of the current position in the iterable. Created using the iter function and advanced using next.\n",
        "my_list = [1, 2, 3]\n",
        "my_iter = iter(my_list)  # This creates an iterator\n",
        "\n",
        "print(next(my_iter))  # Output: 1\n",
        "print(next(my_iter))  # Output: 2\n",
        "\n",
        "#6. Explain the concept of generators in Python and how they are defined.\n",
        "#They are defined like normal functions but use the yield keyword to return values one at a time.\n",
        "def my_generator():\n",
        "    yield 1\n",
        "    yield 2\n",
        "    yield 3\n",
        "\n",
        "for value in my_generator():\n",
        "    print(value)  # Output: 1, 2, 3\n",
        "\n",
        "#7. What are the advantages of using generators over regular functions?\n",
        "#Advantages of using generators:\n",
        "#Memory Efficiency: They don't store all values in memory at once. They yield values one by one, which is great for large datasets.\n",
        "#Lazy Evaluation: Values are computed only when needed, which can speed up performance.\n",
        "#Improved Performance: Especially useful when dealing with streams of data or infinite sequences.\n",
        "\n",
        "#8. What is a lambda function in Python and when is it typically used?\n",
        "#A lambda function is an anonymous function that can have any number of inputs but only one expression.\n",
        "#It's typically used when a small, throwaway function is needed for a short period of time.\n",
        "\n",
        "#9. Explain the purpose and usage of the map function in Python.\n",
        "#The map function applies a function to every item in an iterable and returns a map object.\n",
        "numbers = [1, 2, 3, 4]\n",
        "doubled = list(map(lambda x: x * 2, numbers))  # Output: [2, 4, 6, 8]\n",
        "\n",
        "#10. What is the difference between map, reduce, and filter functions in Python?\n",
        "#map: Applies a function to each element of an iterable.\n",
        "names = ['Pratik', 'Srk', 'Vijay']\n",
        "uppercased_names = list(map(lambda name: name.upper(), names))  # Output: ['PRATIK', 'SRK', 'VIJAY']\n",
        "#reduce: Combines all elements in an iterable into a single result using a function.\n",
        "from functools import reduce\n",
        "numbers = [1, 2, 3, 4]\n",
        "total = reduce(lambda x, y: x + y, numbers)  # Output: 10\n",
        "#Filters elements of an iterable based on a condition.\n",
        "names = ['Pratik', 'Sunil', 'Bhau']\n",
        "filtered_names = list(filter(lambda name: 'a' in name.lower(), names))  # Output: ['Pratik', 'Bhau']\n"
      ],
      "metadata": {
        "id": "IPXrlTJiSNSB"
      },
      "execution_count": null,
      "outputs": []
    }
  ]
}